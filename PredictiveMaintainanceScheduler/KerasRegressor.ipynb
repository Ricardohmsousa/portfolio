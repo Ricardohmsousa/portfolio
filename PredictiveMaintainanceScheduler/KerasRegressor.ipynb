{
 "cells": [
  {
   "cell_type": "markdown",
   "metadata": {
    "id": "Flx-HKV_EaMG"
   },
   "source": [
    "# Keras Regressor \n",
    "\n",
    "\n",
    "*usefull links*  \n",
    "* [Adam](https://machinelearningmastery.com/adam-optimization-algorithm-for-deep-learning/)\n",
    "+ [Keras Regressor](https://machinelearningmastery.com/regression-tutorial-keras-deep-learning-library-python/)"
   ]
  },
  {
   "cell_type": "code",
   "execution_count": 11,
   "metadata": {
    "id": "uSPhPOm7ETf0"
   },
   "outputs": [
    {
     "name": "stdout",
     "output_type": "stream",
     "text": [
      "[PhysicalDevice(name='/physical_device:GPU:0', device_type='GPU')]\n"
     ]
    }
   ],
   "source": [
    "# imports\n",
    "import tensorflow as tf\n",
    "\n",
    "from tensorflow import keras\n",
    "from tensorflow.keras import layers\n",
    "from tensorflow.keras.layers.experimental import preprocessing\n",
    "\n",
    "import pandas as pd\n",
    "import os\n",
    "import matplotlib.pyplot as plt\n",
    "import numpy as np\n",
    "import seaborn as sns\n",
    "\n",
    "# random forests\n",
    "from sklearn.ensemble import RandomForestRegressor\n",
    "from sklearn.metrics import mean_squared_error,accuracy_score,r2_score,mean_absolute_error\n",
    "print(tf.config.list_physical_devices('GPU'))\n"
   ]
  },
  {
   "cell_type": "code",
   "execution_count": 12,
   "metadata": {
    "id": "m6_lPTLVE3Gl"
   },
   "outputs": [],
   "source": [
    "# Make numpy printouts easier to read.\n",
    "np.set_printoptions(precision=3, suppress=True)"
   ]
  },
  {
   "cell_type": "code",
   "execution_count": 13,
   "metadata": {
    "id": "nYPoWKgHE5pI"
   },
   "outputs": [],
   "source": [
    "# Load the data\n",
    "\n",
    "###################\n",
    "#      TRAIN      #\n",
    "###################\n",
    "\n",
    "url = 'https://raw.githubusercontent.com/DGuilherme/TurbofanVibration/master/Dataset/ALLtrainMescla5D.csv'\n",
    "train_data = pd.read_csv(url,delimiter=r\",\")\n",
    "#print(train_data)\n",
    "\n",
    "model_mapping  ={'model1': 1, 'model2': 2, 'model3': 3, 'model4': 4}\n",
    "train_data = train_data.replace({'model': model_mapping})\n",
    "\n",
    "failure_mapping = {'none': 0, 'comp1': 1, 'comp2': 2, 'comp3': 3, 'comp4': 4}\n",
    "train_data = train_data.replace({'failure': failure_mapping})\n",
    "\n",
    "# remover colunas\n",
    "train_data = train_data.drop('datetime',axis=1)\n",
    "train_data = train_data.astype('float32')\n",
    "\n",
    "\n",
    "n_features = 31\n",
    "n_target = 35\n",
    "target = 'RUL_I'\n",
    "\n",
    "feature_list = [train_data.columns[i] for i in range(0,n_features)]\n",
    "\n",
    "X_train = train_data.iloc[:, 0:n_features].values.astype('float32')\n",
    "\n",
    "# generate labels\n",
    "Y_train = train_data.iloc[:, n_target-1:n_target].values.astype('float32').ravel()\n",
    "\n",
    "###################\n",
    "#      TEST       #\n",
    "###################\n",
    "\n",
    "#https://raw.githubusercontent.com/DGuilherme/TurbofanVibration/master/Dataset/ALLtrainMescla5D.csv\n",
    "\n",
    "url = 'https://raw.githubusercontent.com/DGuilherme/TurbofanVibration/master/Dataset/ALLtrainMescla5D.csv'\n",
    "test_data = pd.read_csv(url,delimiter=r\",\")\n",
    "\n",
    "model_mapping  ={'model1': 1, 'model2': 2, 'model3': 3, 'model4': 4}\n",
    "test_data = test_data.replace({'model': model_mapping})\n",
    "\n",
    "failure_mapping = {'none': 0, 'comp1': 1, 'comp2': 2, 'comp3': 3, 'comp4': 4}\n",
    "test_data = test_data.replace({'failure': failure_mapping})\n",
    "\n",
    "# remover colunas\n",
    "test_data = test_data.drop('datetime',axis=1)\n",
    "test_data = test_data.astype('float32')\n",
    "\n",
    "\n",
    "X_test = test_data.iloc[:, 0:n_features].values.astype('float32')\n",
    "# generate labels\n",
    "Y_test = test_data.iloc[:, n_target-1:n_target].values.astype('float32').ravel()\n",
    "\n"
   ]
  },
  {
   "cell_type": "code",
   "execution_count": 14,
   "metadata": {
    "colab": {
     "base_uri": "https://localhost:8080/",
     "height": 370
    },
    "id": "Fa6K2w5-FXBz",
    "outputId": "abe62057-17d7-4842-a159-00353e3d2634"
   },
   "outputs": [],
   "source": [
    "from sklearn.preprocessing import MinMaxScaler\n",
    "\n",
    "\n",
    "\n",
    "## Remove features\n",
    "train_useless_features = train_data[['DI','RUL']]\n",
    "train_data = train_data.drop(['DI','RUL'],axis=1)\n",
    "\n",
    "train_RUL_I = train_data[\"RUL_I\"]\n",
    "train_data = train_data.drop(\"RUL_I\",axis=1)\n",
    "\n",
    "test_useless_features = test_data[['DI','RUL']]\n",
    "test_data = test_data.drop(['DI','RUL'],axis=1)\n",
    "\n",
    "test_RUL_I = test_data[\"RUL_I\"]\n",
    "test_data = test_data.drop(\"RUL_I\",axis=1)\n",
    "\n",
    "trans = MinMaxScaler()\n",
    "num_cols = train_data.columns[train_data.dtypes.apply(lambda c: np.issubdtype(c, np.number))]\n",
    "# normaliza train\n",
    "train_data[num_cols] = trans.fit_transform(train_data[num_cols])\n",
    "\n",
    "#normaliza test\n",
    "test_data[num_cols] = trans.transform(test_data[num_cols])\n",
    "\n"
   ]
  },
  {
   "cell_type": "code",
   "execution_count": 15,
   "metadata": {
    "colab": {
     "base_uri": "https://localhost:8080/"
    },
    "id": "iPJk8aP6FaMo",
    "outputId": "5a754a7e-573c-4207-d668-de88fa305880"
   },
   "outputs": [
    {
     "name": "stdout",
     "output_type": "stream",
     "text": [
      "Number of samples for evaluation: 4799, Number of features used: 32 \n",
      "Number of samples for testing: 16068, Number of features used: 32 \n"
     ]
    }
   ],
   "source": [
    "from sklearn.model_selection import train_test_split\n",
    "# split the dataset in evaluation and test set\n",
    "X_eva, X_test, Y_eva, Y_test = train_test_split(test_data, test_RUL_I, test_size=0.77, random_state=42)\n",
    "print(\"Number of samples for evaluation: %d, Number of features used: %d \" % (X_eva.shape[0], X_eva.shape[1])) \n",
    "print(\"Number of samples for testing: %d, Number of features used: %d \" % (X_test.shape[0], X_test.shape[1])) \n"
   ]
  },
  {
   "cell_type": "code",
   "execution_count": 16,
   "metadata": {
    "id": "24Fgc252Fpnk"
   },
   "outputs": [],
   "source": [
    "from tensorflow.keras.layers import Input, Dense, Activation,Dropout\n",
    "from tensorflow.keras.models import Model\n",
    "\n",
    "input_layer = Input(shape=(train_data.shape[1],))\n",
    "dense_layer_1 = Dense(128, activation='relu')(input_layer)\n",
    "dense_layer_2 = Dense(64, activation='relu')(dense_layer_1)\n",
    "dense_layer_3 = Dense(32, activation='relu')(dense_layer_2)\n",
    "dense_layer_4 = Dense(16, activation='relu')(dense_layer_3)\n",
    "output = Dense(1)(dense_layer_4)\n",
    "\n",
    "model = Model(inputs=input_layer, outputs=output)\n",
    "optimizer = keras.optimizers.Adam(lr=0.001)\n",
    "model.compile(loss=\"mean_squared_error\" , optimizer=optimizer, metrics=[\"mean_squared_error\"])\n"
   ]
  },
  {
   "cell_type": "code",
   "execution_count": 17,
   "metadata": {
    "id": "NhQ0OZe3HPXu",
    "scrolled": true
   },
   "outputs": [
    {
     "name": "stdout",
     "output_type": "stream",
     "text": [
      "Epoch 1/100\n",
      " 1/34 [..............................] - ETA: 0s - loss: 3138.6936 - mean_squared_error: 3138.6936WARNING:tensorflow:Callbacks method `on_train_batch_begin` is slow compared to the batch time (batch time: 0.0000s vs `on_train_batch_begin` time: 0.0010s). Check your callbacks.\n",
      "WARNING:tensorflow:Callbacks method `on_train_batch_end` is slow compared to the batch time (batch time: 0.0000s vs `on_train_batch_end` time: 0.0010s). Check your callbacks.\n",
      "34/34 [==============================] - 0s 4ms/step - loss: 3154.9966 - mean_squared_error: 3154.9966 - val_loss: 1211.6799 - val_mean_squared_error: 1211.6799\n",
      "Epoch 2/100\n",
      "34/34 [==============================] - 0s 2ms/step - loss: 1866.7407 - mean_squared_error: 1866.7407 - val_loss: 1073.8163 - val_mean_squared_error: 1073.8163\n",
      "Epoch 3/100\n",
      "34/34 [==============================] - 0s 2ms/step - loss: 1703.3756 - mean_squared_error: 1703.3756 - val_loss: 1057.0259 - val_mean_squared_error: 1057.0259\n",
      "Epoch 4/100\n",
      "34/34 [==============================] - 0s 2ms/step - loss: 1590.8558 - mean_squared_error: 1590.8558 - val_loss: 925.5984 - val_mean_squared_error: 925.5984\n",
      "Epoch 5/100\n",
      "34/34 [==============================] - 0s 2ms/step - loss: 1520.7638 - mean_squared_error: 1520.7638 - val_loss: 916.0183 - val_mean_squared_error: 916.0183\n",
      "Epoch 6/100\n",
      "34/34 [==============================] - 0s 2ms/step - loss: 1498.7437 - mean_squared_error: 1498.7437 - val_loss: 916.5284 - val_mean_squared_error: 916.5284\n",
      "Epoch 7/100\n",
      "34/34 [==============================] - 0s 2ms/step - loss: 1492.7174 - mean_squared_error: 1492.7174 - val_loss: 906.1880 - val_mean_squared_error: 906.1880\n",
      "Epoch 8/100\n",
      "34/34 [==============================] - 0s 2ms/step - loss: 1481.9769 - mean_squared_error: 1481.9769 - val_loss: 905.0868 - val_mean_squared_error: 905.0868\n",
      "Epoch 9/100\n",
      "34/34 [==============================] - 0s 2ms/step - loss: 1474.8549 - mean_squared_error: 1474.8549 - val_loss: 912.9343 - val_mean_squared_error: 912.9343\n",
      "Epoch 10/100\n",
      "34/34 [==============================] - 0s 2ms/step - loss: 1466.4935 - mean_squared_error: 1466.4935 - val_loss: 896.4642 - val_mean_squared_error: 896.4642\n",
      "Epoch 11/100\n",
      "34/34 [==============================] - 0s 2ms/step - loss: 1448.7217 - mean_squared_error: 1448.7217 - val_loss: 906.4938 - val_mean_squared_error: 906.4938\n",
      "Epoch 12/100\n",
      "34/34 [==============================] - 0s 2ms/step - loss: 1431.9067 - mean_squared_error: 1431.9067 - val_loss: 873.4727 - val_mean_squared_error: 873.4727\n",
      "Epoch 13/100\n",
      "34/34 [==============================] - 0s 2ms/step - loss: 1408.6312 - mean_squared_error: 1408.6312 - val_loss: 909.5676 - val_mean_squared_error: 909.5676\n",
      "Epoch 14/100\n",
      "34/34 [==============================] - 0s 2ms/step - loss: 1380.4047 - mean_squared_error: 1380.4047 - val_loss: 871.2088 - val_mean_squared_error: 871.2088\n",
      "Epoch 15/100\n",
      "34/34 [==============================] - 0s 2ms/step - loss: 1358.9138 - mean_squared_error: 1358.9138 - val_loss: 873.2340 - val_mean_squared_error: 873.2340\n",
      "Epoch 16/100\n",
      "34/34 [==============================] - 0s 2ms/step - loss: 1333.3646 - mean_squared_error: 1333.3646 - val_loss: 941.9163 - val_mean_squared_error: 941.9163\n",
      "Epoch 17/100\n",
      "34/34 [==============================] - 0s 2ms/step - loss: 1310.6646 - mean_squared_error: 1310.6646 - val_loss: 952.6099 - val_mean_squared_error: 952.6099\n",
      "Epoch 18/100\n",
      "34/34 [==============================] - 0s 2ms/step - loss: 1291.1736 - mean_squared_error: 1291.1736 - val_loss: 894.6483 - val_mean_squared_error: 894.6483\n",
      "Epoch 19/100\n",
      "34/34 [==============================] - 0s 2ms/step - loss: 1267.4938 - mean_squared_error: 1267.4938 - val_loss: 942.0137 - val_mean_squared_error: 942.0137\n",
      "Epoch 20/100\n",
      "34/34 [==============================] - 0s 2ms/step - loss: 1241.7695 - mean_squared_error: 1241.7695 - val_loss: 953.4216 - val_mean_squared_error: 953.4216\n",
      "Epoch 21/100\n",
      "34/34 [==============================] - 0s 2ms/step - loss: 1217.1676 - mean_squared_error: 1217.1676 - val_loss: 943.5904 - val_mean_squared_error: 943.5904\n",
      "Epoch 22/100\n",
      "34/34 [==============================] - 0s 2ms/step - loss: 1195.3558 - mean_squared_error: 1195.3558 - val_loss: 956.8536 - val_mean_squared_error: 956.8536\n",
      "Epoch 23/100\n",
      "34/34 [==============================] - 0s 2ms/step - loss: 1164.6737 - mean_squared_error: 1164.6737 - val_loss: 948.6384 - val_mean_squared_error: 948.6384\n",
      "Epoch 24/100\n",
      "34/34 [==============================] - 0s 2ms/step - loss: 1147.0469 - mean_squared_error: 1147.0469 - val_loss: 918.0362 - val_mean_squared_error: 918.0362\n",
      "Epoch 25/100\n",
      "34/34 [==============================] - 0s 2ms/step - loss: 1112.6205 - mean_squared_error: 1112.6205 - val_loss: 918.7136 - val_mean_squared_error: 918.7136\n",
      "Epoch 26/100\n",
      "34/34 [==============================] - 0s 2ms/step - loss: 1088.1572 - mean_squared_error: 1088.1572 - val_loss: 909.3206 - val_mean_squared_error: 909.3206\n",
      "Epoch 27/100\n",
      "34/34 [==============================] - 0s 2ms/step - loss: 1071.7827 - mean_squared_error: 1071.7827 - val_loss: 958.0954 - val_mean_squared_error: 958.0954\n",
      "Epoch 28/100\n",
      "34/34 [==============================] - 0s 2ms/step - loss: 1037.8684 - mean_squared_error: 1037.8684 - val_loss: 883.9338 - val_mean_squared_error: 883.9338\n",
      "Epoch 29/100\n",
      "34/34 [==============================] - 0s 2ms/step - loss: 1009.7723 - mean_squared_error: 1009.7723 - val_loss: 927.2357 - val_mean_squared_error: 927.2357\n",
      "Epoch 30/100\n",
      "34/34 [==============================] - 0s 2ms/step - loss: 983.7271 - mean_squared_error: 983.7271 - val_loss: 850.0494 - val_mean_squared_error: 850.0494\n",
      "Epoch 31/100\n",
      "34/34 [==============================] - 0s 2ms/step - loss: 971.2513 - mean_squared_error: 971.2513 - val_loss: 908.9474 - val_mean_squared_error: 908.9474\n",
      "Epoch 32/100\n",
      "34/34 [==============================] - 0s 2ms/step - loss: 941.7050 - mean_squared_error: 941.7050 - val_loss: 844.2012 - val_mean_squared_error: 844.2012\n",
      "Epoch 33/100\n",
      "34/34 [==============================] - 0s 2ms/step - loss: 958.8450 - mean_squared_error: 958.8450 - val_loss: 906.3169 - val_mean_squared_error: 906.3169\n",
      "Epoch 34/100\n",
      "34/34 [==============================] - 0s 2ms/step - loss: 906.8790 - mean_squared_error: 906.8790 - val_loss: 839.9650 - val_mean_squared_error: 839.9650\n",
      "Epoch 35/100\n",
      "34/34 [==============================] - 0s 2ms/step - loss: 919.1890 - mean_squared_error: 919.1890 - val_loss: 824.6131 - val_mean_squared_error: 824.6131\n",
      "Epoch 36/100\n",
      "34/34 [==============================] - 0s 2ms/step - loss: 900.1940 - mean_squared_error: 900.1940 - val_loss: 915.4733 - val_mean_squared_error: 915.4733\n",
      "Epoch 37/100\n",
      "34/34 [==============================] - 0s 2ms/step - loss: 872.3235 - mean_squared_error: 872.3235 - val_loss: 873.2674 - val_mean_squared_error: 873.2674\n",
      "Epoch 38/100\n",
      "34/34 [==============================] - 0s 2ms/step - loss: 872.0273 - mean_squared_error: 872.0273 - val_loss: 865.7162 - val_mean_squared_error: 865.7162\n",
      "Epoch 39/100\n",
      "34/34 [==============================] - 0s 2ms/step - loss: 849.0591 - mean_squared_error: 849.0591 - val_loss: 924.6229 - val_mean_squared_error: 924.6229\n",
      "Epoch 40/100\n",
      "34/34 [==============================] - 0s 2ms/step - loss: 844.1265 - mean_squared_error: 844.1265 - val_loss: 880.9449 - val_mean_squared_error: 880.9449\n",
      "Epoch 41/100\n",
      "34/34 [==============================] - 0s 2ms/step - loss: 825.9875 - mean_squared_error: 825.9875 - val_loss: 842.5973 - val_mean_squared_error: 842.5973\n",
      "Epoch 42/100\n",
      "34/34 [==============================] - 0s 2ms/step - loss: 842.4741 - mean_squared_error: 842.4741 - val_loss: 879.8874 - val_mean_squared_error: 879.8874\n",
      "Epoch 43/100\n",
      "34/34 [==============================] - 0s 2ms/step - loss: 806.7630 - mean_squared_error: 806.7630 - val_loss: 894.8818 - val_mean_squared_error: 894.8818\n",
      "Epoch 44/100\n",
      "34/34 [==============================] - 0s 2ms/step - loss: 802.3541 - mean_squared_error: 802.3541 - val_loss: 861.3608 - val_mean_squared_error: 861.3608\n",
      "Epoch 45/100\n",
      "34/34 [==============================] - 0s 2ms/step - loss: 794.7742 - mean_squared_error: 794.7742 - val_loss: 861.2542 - val_mean_squared_error: 861.2542\n",
      "Epoch 46/100\n"
     ]
    },
    {
     "name": "stdout",
     "output_type": "stream",
     "text": [
      "34/34 [==============================] - 0s 2ms/step - loss: 780.6743 - mean_squared_error: 780.6743 - val_loss: 878.8618 - val_mean_squared_error: 878.8618\n",
      "Epoch 47/100\n",
      "34/34 [==============================] - 0s 2ms/step - loss: 771.9147 - mean_squared_error: 771.9147 - val_loss: 872.8536 - val_mean_squared_error: 872.8536\n",
      "Epoch 48/100\n",
      "34/34 [==============================] - 0s 2ms/step - loss: 769.2236 - mean_squared_error: 769.2236 - val_loss: 848.5066 - val_mean_squared_error: 848.5066\n",
      "Epoch 49/100\n",
      "34/34 [==============================] - 0s 2ms/step - loss: 771.5975 - mean_squared_error: 771.5975 - val_loss: 856.2009 - val_mean_squared_error: 856.2009\n",
      "Epoch 50/100\n",
      "34/34 [==============================] - 0s 2ms/step - loss: 771.5743 - mean_squared_error: 771.5743 - val_loss: 890.0228 - val_mean_squared_error: 890.0228\n",
      "Epoch 51/100\n",
      "34/34 [==============================] - 0s 2ms/step - loss: 744.9227 - mean_squared_error: 744.9227 - val_loss: 913.9131 - val_mean_squared_error: 913.9131\n",
      "Epoch 52/100\n",
      "34/34 [==============================] - 0s 2ms/step - loss: 743.2502 - mean_squared_error: 743.2502 - val_loss: 883.5794 - val_mean_squared_error: 883.5794\n",
      "Epoch 53/100\n",
      "34/34 [==============================] - 0s 2ms/step - loss: 741.3641 - mean_squared_error: 741.3641 - val_loss: 929.6305 - val_mean_squared_error: 929.6305\n",
      "Epoch 54/100\n",
      "34/34 [==============================] - 0s 2ms/step - loss: 731.2719 - mean_squared_error: 731.2719 - val_loss: 942.2167 - val_mean_squared_error: 942.2167\n",
      "Epoch 55/100\n",
      "34/34 [==============================] - 0s 2ms/step - loss: 723.4711 - mean_squared_error: 723.4711 - val_loss: 891.1312 - val_mean_squared_error: 891.1312\n",
      "Epoch 56/100\n",
      "34/34 [==============================] - 0s 2ms/step - loss: 720.5346 - mean_squared_error: 720.5346 - val_loss: 889.7816 - val_mean_squared_error: 889.7816\n",
      "Epoch 57/100\n",
      "34/34 [==============================] - 0s 2ms/step - loss: 701.4011 - mean_squared_error: 701.4011 - val_loss: 899.4983 - val_mean_squared_error: 899.4983\n",
      "Epoch 58/100\n",
      "34/34 [==============================] - 0s 2ms/step - loss: 701.6517 - mean_squared_error: 701.6517 - val_loss: 904.0107 - val_mean_squared_error: 904.0107\n",
      "Epoch 59/100\n",
      "34/34 [==============================] - 0s 2ms/step - loss: 694.3673 - mean_squared_error: 694.3673 - val_loss: 924.1873 - val_mean_squared_error: 924.1873\n",
      "Epoch 60/100\n",
      "34/34 [==============================] - 0s 2ms/step - loss: 681.9993 - mean_squared_error: 681.9993 - val_loss: 949.6686 - val_mean_squared_error: 949.6686\n",
      "Epoch 61/100\n",
      "34/34 [==============================] - 0s 2ms/step - loss: 685.3568 - mean_squared_error: 685.3568 - val_loss: 942.1334 - val_mean_squared_error: 942.1334\n",
      "Epoch 62/100\n",
      "34/34 [==============================] - 0s 2ms/step - loss: 673.8370 - mean_squared_error: 673.8370 - val_loss: 885.2360 - val_mean_squared_error: 885.2360\n",
      "Epoch 63/100\n",
      "34/34 [==============================] - 0s 2ms/step - loss: 666.4313 - mean_squared_error: 666.4313 - val_loss: 981.1984 - val_mean_squared_error: 981.1984\n",
      "Epoch 64/100\n",
      "34/34 [==============================] - 0s 2ms/step - loss: 661.7106 - mean_squared_error: 661.7106 - val_loss: 945.4703 - val_mean_squared_error: 945.4703\n",
      "Epoch 65/100\n",
      "34/34 [==============================] - 0s 2ms/step - loss: 656.2593 - mean_squared_error: 656.2593 - val_loss: 920.9843 - val_mean_squared_error: 920.9843\n",
      "Epoch 66/100\n",
      "34/34 [==============================] - 0s 2ms/step - loss: 640.0997 - mean_squared_error: 640.0997 - val_loss: 1018.5670 - val_mean_squared_error: 1018.5670\n",
      "Epoch 67/100\n",
      "34/34 [==============================] - 0s 2ms/step - loss: 654.5184 - mean_squared_error: 654.5184 - val_loss: 915.3614 - val_mean_squared_error: 915.3614\n",
      "Epoch 68/100\n",
      "34/34 [==============================] - 0s 2ms/step - loss: 640.1346 - mean_squared_error: 640.1346 - val_loss: 981.1301 - val_mean_squared_error: 981.1301\n",
      "Epoch 69/100\n",
      "34/34 [==============================] - 0s 2ms/step - loss: 641.2148 - mean_squared_error: 641.2148 - val_loss: 909.9439 - val_mean_squared_error: 909.9439\n",
      "Epoch 70/100\n",
      "34/34 [==============================] - 0s 2ms/step - loss: 627.5535 - mean_squared_error: 627.5535 - val_loss: 943.6546 - val_mean_squared_error: 943.6546\n",
      "Epoch 71/100\n",
      "34/34 [==============================] - 0s 2ms/step - loss: 615.3492 - mean_squared_error: 615.3492 - val_loss: 952.5068 - val_mean_squared_error: 952.5068\n",
      "Epoch 72/100\n",
      "34/34 [==============================] - 0s 2ms/step - loss: 614.5883 - mean_squared_error: 614.5883 - val_loss: 979.6854 - val_mean_squared_error: 979.6854\n",
      "Epoch 73/100\n",
      "34/34 [==============================] - 0s 2ms/step - loss: 631.3835 - mean_squared_error: 631.3835 - val_loss: 925.9135 - val_mean_squared_error: 925.9135\n",
      "Epoch 74/100\n",
      "34/34 [==============================] - 0s 2ms/step - loss: 599.2654 - mean_squared_error: 599.2654 - val_loss: 965.1100 - val_mean_squared_error: 965.1100\n",
      "Epoch 75/100\n",
      "34/34 [==============================] - 0s 2ms/step - loss: 605.6312 - mean_squared_error: 605.6312 - val_loss: 947.4331 - val_mean_squared_error: 947.4331\n",
      "Epoch 76/100\n",
      "34/34 [==============================] - 0s 2ms/step - loss: 583.7093 - mean_squared_error: 583.7093 - val_loss: 972.8684 - val_mean_squared_error: 972.8684\n",
      "Epoch 77/100\n",
      "34/34 [==============================] - 0s 2ms/step - loss: 573.3170 - mean_squared_error: 573.3170 - val_loss: 970.9580 - val_mean_squared_error: 970.9580\n",
      "Epoch 78/100\n",
      "34/34 [==============================] - 0s 2ms/step - loss: 568.8712 - mean_squared_error: 568.8712 - val_loss: 959.5225 - val_mean_squared_error: 959.5225\n",
      "Epoch 79/100\n",
      "34/34 [==============================] - 0s 2ms/step - loss: 567.1990 - mean_squared_error: 567.1990 - val_loss: 1002.3912 - val_mean_squared_error: 1002.3912\n",
      "Epoch 80/100\n",
      "34/34 [==============================] - 0s 2ms/step - loss: 555.6425 - mean_squared_error: 555.6425 - val_loss: 989.1827 - val_mean_squared_error: 989.1827\n",
      "Epoch 81/100\n",
      "34/34 [==============================] - 0s 2ms/step - loss: 553.6641 - mean_squared_error: 553.6641 - val_loss: 1029.3976 - val_mean_squared_error: 1029.3976\n",
      "Epoch 82/100\n",
      "34/34 [==============================] - 0s 2ms/step - loss: 555.9056 - mean_squared_error: 555.9055 - val_loss: 1019.3083 - val_mean_squared_error: 1019.3083\n",
      "Epoch 83/100\n",
      "34/34 [==============================] - 0s 2ms/step - loss: 552.4355 - mean_squared_error: 552.4355 - val_loss: 1009.2997 - val_mean_squared_error: 1009.2997\n",
      "Epoch 84/100\n",
      "34/34 [==============================] - 0s 2ms/step - loss: 559.3600 - mean_squared_error: 559.3600 - val_loss: 962.0358 - val_mean_squared_error: 962.0358\n",
      "Epoch 85/100\n",
      "34/34 [==============================] - 0s 2ms/step - loss: 522.9973 - mean_squared_error: 522.9973 - val_loss: 982.6285 - val_mean_squared_error: 982.6286\n",
      "Epoch 86/100\n",
      "34/34 [==============================] - 0s 2ms/step - loss: 523.0070 - mean_squared_error: 523.0070 - val_loss: 997.6057 - val_mean_squared_error: 997.6057\n",
      "Epoch 87/100\n",
      "34/34 [==============================] - 0s 2ms/step - loss: 530.0474 - mean_squared_error: 530.0474 - val_loss: 1025.3059 - val_mean_squared_error: 1025.3059\n",
      "Epoch 88/100\n",
      "34/34 [==============================] - 0s 2ms/step - loss: 518.7865 - mean_squared_error: 518.7865 - val_loss: 996.5872 - val_mean_squared_error: 996.5872\n",
      "Epoch 89/100\n",
      "34/34 [==============================] - 0s 2ms/step - loss: 513.6407 - mean_squared_error: 513.6407 - val_loss: 1032.6702 - val_mean_squared_error: 1032.6702\n",
      "Epoch 90/100\n",
      "34/34 [==============================] - 0s 2ms/step - loss: 504.6162 - mean_squared_error: 504.6162 - val_loss: 1009.9861 - val_mean_squared_error: 1009.9861\n",
      "Epoch 91/100\n",
      "34/34 [==============================] - 0s 2ms/step - loss: 507.5663 - mean_squared_error: 507.5663 - val_loss: 1034.5264 - val_mean_squared_error: 1034.5264\n",
      "Epoch 92/100\n",
      "34/34 [==============================] - 0s 2ms/step - loss: 497.5319 - mean_squared_error: 497.5319 - val_loss: 1076.2804 - val_mean_squared_error: 1076.2804\n",
      "Epoch 93/100\n",
      "34/34 [==============================] - 0s 2ms/step - loss: 495.9177 - mean_squared_error: 495.9177 - val_loss: 1057.1699 - val_mean_squared_error: 1057.1699\n",
      "Epoch 94/100\n"
     ]
    },
    {
     "name": "stdout",
     "output_type": "stream",
     "text": [
      "34/34 [==============================] - 0s 2ms/step - loss: 480.5901 - mean_squared_error: 480.5901 - val_loss: 1038.0208 - val_mean_squared_error: 1038.0208\n",
      "Epoch 95/100\n",
      "34/34 [==============================] - 0s 2ms/step - loss: 471.1436 - mean_squared_error: 471.1436 - val_loss: 1036.5592 - val_mean_squared_error: 1036.5592\n",
      "Epoch 96/100\n",
      "34/34 [==============================] - 0s 2ms/step - loss: 467.6966 - mean_squared_error: 467.6966 - val_loss: 1028.5088 - val_mean_squared_error: 1028.5088\n",
      "Epoch 97/100\n",
      "34/34 [==============================] - 0s 2ms/step - loss: 458.5556 - mean_squared_error: 458.5556 - val_loss: 1061.6641 - val_mean_squared_error: 1061.6641\n",
      "Epoch 98/100\n",
      "34/34 [==============================] - 0s 2ms/step - loss: 453.9195 - mean_squared_error: 453.9195 - val_loss: 1074.9011 - val_mean_squared_error: 1074.9011\n",
      "Epoch 99/100\n",
      "34/34 [==============================] - 0s 2ms/step - loss: 455.8286 - mean_squared_error: 455.8286 - val_loss: 1075.6053 - val_mean_squared_error: 1075.6053\n",
      "Epoch 100/100\n",
      "34/34 [==============================] - 0s 2ms/step - loss: 464.3328 - mean_squared_error: 464.3328 - val_loss: 1071.6663 - val_mean_squared_error: 1071.6663\n"
     ]
    }
   ],
   "source": [
    "history = model.fit(train_data, train_RUL_I, batch_size=500, epochs=100, verbose=1, validation_split=0.2)"
   ]
  },
  {
   "cell_type": "code",
   "execution_count": 18,
   "metadata": {
    "colab": {
     "base_uri": "https://localhost:8080/"
    },
    "id": "vr-PpDYSRr8E",
    "outputId": "980b9229-d5c1-4f8c-b7a8-0ce7b31a2769"
   },
   "outputs": [
    {
     "name": "stdout",
     "output_type": "stream",
     "text": [
      "21/21 [==============================] - 0s 810us/step - loss: 563.1776 - mean_squared_error: 563.1776\n",
      "Train\n",
      " Square Error: 23.731363\n",
      " Absolute Error: 17.071533\n",
      "Test\n",
      " Square Error: 23.76319\n",
      " Absolute Error: 17.078596\n",
      "Evaluation\n",
      " Square Error: 23.62449\n",
      " Absolute Error: 17.047884\n"
     ]
    }
   ],
   "source": [
    "from sklearn.metrics import mean_squared_error,mean_absolute_error\n",
    "from math import sqrt\n",
    "\n",
    "model.evaluate(train_data, train_RUL_I, batch_size=1000)\n",
    "\n",
    "pred_train = model.predict(train_data)\n",
    "print('Train')\n",
    "print(' Square Error:',np.sqrt(mean_squared_error(train_RUL_I,pred_train)))\n",
    "print(' Absolute Error:',mean_absolute_error(train_RUL_I,pred_train))\n",
    "\n",
    "pred = model.predict(X_test)\n",
    "print('Test')\n",
    "print(' Square Error:',np.sqrt(mean_squared_error(Y_test,pred)))\n",
    "print(' Absolute Error:',mean_absolute_error(Y_test,pred))\n",
    "\n",
    "\n",
    "pred = model.predict(X_eva)\n",
    "print('Evaluation')\n",
    "print(' Square Error:',np.sqrt(mean_squared_error(Y_eva,pred)))\n",
    "print(' Absolute Error:',mean_absolute_error(Y_eva,pred))"
   ]
  },
  {
   "cell_type": "code",
   "execution_count": 19,
   "metadata": {
    "colab": {
     "base_uri": "https://localhost:8080/",
     "height": 595
    },
    "id": "T3HMf-heICgx",
    "outputId": "f962a6ff-2fc8-48d2-9e8d-1f6014bc5192",
    "scrolled": false
   },
   "outputs": [
    {
     "data": {
      "text/plain": [
       "dict_keys(['loss', 'mean_squared_error', 'val_loss', 'val_mean_squared_error'])"
      ]
     },
     "execution_count": 19,
     "metadata": {},
     "output_type": "execute_result"
    }
   ],
   "source": [
    "history.history.keys()"
   ]
  },
  {
   "cell_type": "code",
   "execution_count": 20,
   "metadata": {},
   "outputs": [
    {
     "data": {
      "image/png": "[encoded data removed]",
      "text/plain": [
       "<Figure size 432x288 with 1 Axes>"
      ]
     },
     "metadata": {
      "needs_background": "light"
     },
     "output_type": "display_data"
    },
    {
     "data": {
      "image/png": "[encoded data removed]",
      "text/plain": [
       "<Figure size 432x288 with 1 Axes>"
      ]
     },
     "metadata": {
      "needs_background": "light"
     },
     "output_type": "display_data"
    }
   ],
   "source": [
    "# summarize history for accuracy\n",
    "plt.plot(history.history['mean_squared_error'])\n",
    "plt.plot(history.history['val_mean_squared_error'])\n",
    "plt.title('model mean_squared_error')\n",
    "plt.ylabel('mean_squared_error')\n",
    "plt.xlabel('epoch')\n",
    "plt.legend(['train', 'test'], loc='upper left')\n",
    "plt.show()\n",
    "# summarize history for loss\n",
    "plt.plot(history.history['loss'])\n",
    "plt.plot(history.history['val_loss'])\n",
    "plt.title('model loss')\n",
    "plt.ylabel('loss')\n",
    "plt.xlabel('epoch')\n",
    "plt.legend(['train', 'test'], loc='upper left')\n",
    "plt.show()\n"
   ]
  },
  {
   "cell_type": "code",
   "execution_count": null,
   "metadata": {},
   "outputs": [],
   "source": []
  }
 ],
 "metadata": {
  "colab": {
   "name": "KerasRegressor.ipynb",
   "provenance": []
  },
  "kernelspec": {
   "display_name": "Python 3",
   "language": "python",
   "name": "python3"
  },
  "language_info": {
   "codemirror_mode": {
    "name": "ipython",
    "version": 3
   },
   "file_extension": ".py",
   "mimetype": "text/x-python",
   "name": "python",
   "nbconvert_exporter": "python",
   "pygments_lexer": "ipython3",
   "version": "3.7.9"
  }
 },
 "nbformat": 4,
 "nbformat_minor": 1
}
